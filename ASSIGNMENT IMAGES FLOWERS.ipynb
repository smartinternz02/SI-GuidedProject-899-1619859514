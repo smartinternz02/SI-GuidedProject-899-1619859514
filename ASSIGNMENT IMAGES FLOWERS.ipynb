{
 "cells": [
  {
   "cell_type": "code",
   "execution_count": 1,
   "metadata": {},
   "outputs": [],
   "source": [
    "from tensorflow.keras.models import Sequential\n",
    "from tensorflow.keras.layers import Dense\n",
    "from tensorflow.keras.layers import Convolution2D\n",
    "from tensorflow.keras.layers import MaxPooling2D\n",
    "from tensorflow.keras.layers import Flatten"
   ]
  },
  {
   "cell_type": "code",
   "execution_count": 2,
   "metadata": {},
   "outputs": [
    {
     "name": "stderr",
     "output_type": "stream",
     "text": [
      "Using TensorFlow backend.\n"
     ]
    }
   ],
   "source": [
    "from keras.preprocessing.image import ImageDataGenerator\n",
    "train_datagen=ImageDataGenerator(rescale=1./255,shear_range=0.2,zoom_range=0.2,horizontal_flip=True)\n",
    "test_datagen=ImageDataGenerator(rescale=1./255)"
   ]
  },
  {
   "cell_type": "code",
   "execution_count": 3,
   "metadata": {},
   "outputs": [
    {
     "name": "stdout",
     "output_type": "stream",
     "text": [
      "Found 1677 images belonging to 5 classes.\n",
      "Found 750 images belonging to 5 classes.\n"
     ]
    }
   ],
   "source": [
    "x_train=train_datagen.flow_from_directory(r\"D:\\flowers\\trainset\",target_size = (64,64) , batch_size = 32 , class_mode = \"categorical\")\n",
    "x_test=test_datagen.flow_from_directory(r\"D:\\flowers\\testset\",target_size = (64,64) , batch_size = 32 , class_mode = \"categorical\")"
   ]
  },
  {
   "cell_type": "code",
   "execution_count": 4,
   "metadata": {},
   "outputs": [],
   "source": [
    "model=Sequential()"
   ]
  },
  {
   "cell_type": "code",
   "execution_count": 5,
   "metadata": {},
   "outputs": [
    {
     "name": "stdout",
     "output_type": "stream",
     "text": [
      "WARNING:tensorflow:From C:\\Users\\Harshita\\Anaconda3\\lib\\site-packages\\tensorflow\\python\\ops\\init_ops.py:1251: calling VarianceScaling.__init__ (from tensorflow.python.ops.init_ops) with dtype is deprecated and will be removed in a future version.\n",
      "Instructions for updating:\n",
      "Call initializer instance with the dtype argument instead of passing it to the constructor\n"
     ]
    }
   ],
   "source": [
    "model.add(Convolution2D(32,(3,3),input_shape=(64,64,3),activation=\"relu\"))"
   ]
  },
  {
   "cell_type": "code",
   "execution_count": 6,
   "metadata": {},
   "outputs": [],
   "source": [
    "model.add(MaxPooling2D(2,2))"
   ]
  },
  {
   "cell_type": "code",
   "execution_count": 7,
   "metadata": {},
   "outputs": [],
   "source": [
    "model.add(Flatten())"
   ]
  },
  {
   "cell_type": "code",
   "execution_count": 8,
   "metadata": {},
   "outputs": [
    {
     "name": "stdout",
     "output_type": "stream",
     "text": [
      "WARNING:tensorflow:From C:\\Users\\Harshita\\Anaconda3\\lib\\site-packages\\tensorflow\\python\\keras\\initializers.py:119: calling RandomUniform.__init__ (from tensorflow.python.ops.init_ops) with dtype is deprecated and will be removed in a future version.\n",
      "Instructions for updating:\n",
      "Call initializer instance with the dtype argument instead of passing it to the constructor\n"
     ]
    }
   ],
   "source": [
    "model.add(Dense(units=512,activation=\"relu\",kernel_initializer=\"random_uniform\"))"
   ]
  },
  {
   "cell_type": "code",
   "execution_count": 9,
   "metadata": {},
   "outputs": [],
   "source": [
    "model.add(Dense(units=5,activation=\"softmax\",kernel_initializer=\"random_uniform\"))"
   ]
  },
  {
   "cell_type": "code",
   "execution_count": 10,
   "metadata": {},
   "outputs": [],
   "source": [
    "model.compile(\"sgd\",loss=\"categorical_crossentropy\",metrics=[\"accuracy\"])"
   ]
  },
  {
   "cell_type": "code",
   "execution_count": 11,
   "metadata": {},
   "outputs": [
    {
     "name": "stdout",
     "output_type": "stream",
     "text": [
      "Epoch 1/50\n",
      "45/45 [==============================] - 10s 212ms/step - loss: 1.5357 - acc: 0.3251 - val_loss: 1.5167 - val_acc: 0.3266\n",
      "Epoch 2/50\n",
      "45/45 [==============================] - 13s 284ms/step - loss: 1.4094 - acc: 0.3997 - val_loss: 1.4713 - val_acc: 0.3250\n",
      "Epoch 3/50\n",
      "45/45 [==============================] - 13s 281ms/step - loss: 1.3433 - acc: 0.4125 - val_loss: 1.3646 - val_acc: 0.3984\n",
      "Epoch 4/50\n",
      "45/45 [==============================] - 13s 294ms/step - loss: 1.3043 - acc: 0.4429 - val_loss: 1.4535 - val_acc: 0.3688\n",
      "Epoch 5/50\n",
      "45/45 [==============================] - 13s 291ms/step - loss: 1.2153 - acc: 0.5018 - val_loss: 1.2546 - val_acc: 0.4375\n",
      "Epoch 6/50\n",
      "45/45 [==============================] - 14s 303ms/step - loss: 1.2090 - acc: 0.4778 - val_loss: 1.2610 - val_acc: 0.4328\n",
      "Epoch 7/50\n",
      "45/45 [==============================] - 12s 272ms/step - loss: 1.1778 - acc: 0.5067 - val_loss: 1.3191 - val_acc: 0.4313\n",
      "Epoch 8/50\n",
      "45/45 [==============================] - 15s 325ms/step - loss: 1.1576 - acc: 0.5208 - val_loss: 1.2291 - val_acc: 0.4859\n",
      "Epoch 9/50\n",
      "45/45 [==============================] - 13s 289ms/step - loss: 1.1427 - acc: 0.5243 - val_loss: 1.2385 - val_acc: 0.4734\n",
      "Epoch 10/50\n",
      "45/45 [==============================] - 12s 271ms/step - loss: 1.1295 - acc: 0.5559 - val_loss: 1.2034 - val_acc: 0.5047\n",
      "Epoch 11/50\n",
      "45/45 [==============================] - 13s 283ms/step - loss: 1.0864 - acc: 0.5447 - val_loss: 1.2474 - val_acc: 0.4719\n",
      "Epoch 12/50\n",
      "45/45 [==============================] - 12s 272ms/step - loss: 1.0877 - acc: 0.5595 - val_loss: 1.2461 - val_acc: 0.4672\n",
      "Epoch 13/50\n",
      "45/45 [==============================] - 10s 215ms/step - loss: 1.0708 - acc: 0.5637 - val_loss: 1.2099 - val_acc: 0.5250\n",
      "Epoch 14/50\n",
      "45/45 [==============================] - 7s 147ms/step - loss: 1.0542 - acc: 0.5897 - val_loss: 1.2766 - val_acc: 0.4344\n",
      "Epoch 15/50\n",
      "45/45 [==============================] - 7s 159ms/step - loss: 1.0373 - acc: 0.6038 - val_loss: 1.1651 - val_acc: 0.5375\n",
      "Epoch 16/50\n",
      "45/45 [==============================] - 7s 151ms/step - loss: 1.0482 - acc: 0.5749 - val_loss: 1.2064 - val_acc: 0.5234\n",
      "Epoch 17/50\n",
      "45/45 [==============================] - 7s 153ms/step - loss: 0.9988 - acc: 0.6017 - val_loss: 1.1730 - val_acc: 0.5344\n",
      "Epoch 18/50\n",
      "45/45 [==============================] - 7s 153ms/step - loss: 1.0143 - acc: 0.5968 - val_loss: 1.1580 - val_acc: 0.5531\n",
      "Epoch 19/50\n",
      "45/45 [==============================] - 7s 153ms/step - loss: 0.9929 - acc: 0.6042 - val_loss: 1.2637 - val_acc: 0.5047\n",
      "Epoch 20/50\n",
      "45/45 [==============================] - 7s 153ms/step - loss: 0.9788 - acc: 0.6122 - val_loss: 1.1728 - val_acc: 0.5547\n",
      "Epoch 21/50\n",
      "45/45 [==============================] - 8s 167ms/step - loss: 1.0026 - acc: 0.6056 - val_loss: 1.1697 - val_acc: 0.5437\n",
      "Epoch 22/50\n",
      "45/45 [==============================] - 7s 155ms/step - loss: 0.9607 - acc: 0.6284 - val_loss: 1.2031 - val_acc: 0.5188\n",
      "Epoch 23/50\n",
      "45/45 [==============================] - 7s 151ms/step - loss: 0.9467 - acc: 0.6191 - val_loss: 1.2628 - val_acc: 0.4922\n",
      "Epoch 24/50\n",
      "45/45 [==============================] - 7s 153ms/step - loss: 0.9585 - acc: 0.6327 - val_loss: 1.2167 - val_acc: 0.5359\n",
      "Epoch 25/50\n",
      "45/45 [==============================] - 7s 153ms/step - loss: 0.9608 - acc: 0.6174 - val_loss: 1.2089 - val_acc: 0.5391\n",
      "Epoch 26/50\n",
      "45/45 [==============================] - 7s 151ms/step - loss: 0.9288 - acc: 0.6418 - val_loss: 1.1755 - val_acc: 0.5375\n",
      "Epoch 27/50\n",
      "45/45 [==============================] - 7s 150ms/step - loss: 0.9252 - acc: 0.6376 - val_loss: 1.1850 - val_acc: 0.5281\n",
      "Epoch 28/50\n",
      "45/45 [==============================] - 7s 166ms/step - loss: 0.9106 - acc: 0.6493 - val_loss: 1.2953 - val_acc: 0.5063\n",
      "Epoch 29/50\n",
      "45/45 [==============================] - 7s 157ms/step - loss: 0.9097 - acc: 0.6467 - val_loss: 1.2612 - val_acc: 0.5109\n",
      "Epoch 30/50\n",
      "45/45 [==============================] - 7s 151ms/step - loss: 0.9202 - acc: 0.6562 - val_loss: 1.1366 - val_acc: 0.5859\n",
      "Epoch 31/50\n",
      "45/45 [==============================] - 7s 153ms/step - loss: 0.8755 - acc: 0.6722 - val_loss: 1.2709 - val_acc: 0.5063\n",
      "Epoch 32/50\n",
      "45/45 [==============================] - 7s 150ms/step - loss: 0.8945 - acc: 0.6460 - val_loss: 1.1832 - val_acc: 0.5484\n",
      "Epoch 33/50\n",
      "45/45 [==============================] - 7s 155ms/step - loss: 0.8970 - acc: 0.6432 - val_loss: 1.2494 - val_acc: 0.5219\n",
      "Epoch 34/50\n",
      "45/45 [==============================] - 7s 150ms/step - loss: 0.8592 - acc: 0.6791 - val_loss: 1.1871 - val_acc: 0.5422\n",
      "Epoch 35/50\n",
      "45/45 [==============================] - 8s 171ms/step - loss: 0.8944 - acc: 0.6657 - val_loss: 1.2263 - val_acc: 0.5437\n",
      "Epoch 36/50\n",
      "45/45 [==============================] - 7s 150ms/step - loss: 0.8461 - acc: 0.6805 - val_loss: 1.1530 - val_acc: 0.5609\n",
      "Epoch 37/50\n",
      "45/45 [==============================] - 8s 184ms/step - loss: 0.8562 - acc: 0.6750 - val_loss: 1.4002 - val_acc: 0.4625\n",
      "Epoch 38/50\n",
      "45/45 [==============================] - 8s 168ms/step - loss: 0.8668 - acc: 0.6735 - val_loss: 1.2372 - val_acc: 0.5125\n",
      "Epoch 39/50\n",
      "45/45 [==============================] - 8s 176ms/step - loss: 0.8261 - acc: 0.6812 - val_loss: 1.1574 - val_acc: 0.5641\n",
      "Epoch 40/50\n",
      "45/45 [==============================] - 8s 171ms/step - loss: 0.8224 - acc: 0.6939 - val_loss: 1.2450 - val_acc: 0.5359\n",
      "Epoch 41/50\n",
      "45/45 [==============================] - 9s 204ms/step - loss: 0.7951 - acc: 0.6981 - val_loss: 1.1579 - val_acc: 0.5797\n",
      "Epoch 42/50\n",
      "45/45 [==============================] - 8s 185ms/step - loss: 0.8051 - acc: 0.6882 - val_loss: 1.1390 - val_acc: 0.5656\n",
      "Epoch 43/50\n",
      "45/45 [==============================] - 8s 175ms/step - loss: 0.8063 - acc: 0.6840 - val_loss: 1.1435 - val_acc: 0.5766\n",
      "Epoch 44/50\n",
      "45/45 [==============================] - 8s 176ms/step - loss: 0.7843 - acc: 0.6911 - val_loss: 1.1941 - val_acc: 0.5531\n",
      "Epoch 45/50\n",
      "45/45 [==============================] - 8s 177ms/step - loss: 0.8127 - acc: 0.6944 - val_loss: 1.4936 - val_acc: 0.4688\n",
      "Epoch 46/50\n",
      "45/45 [==============================] - 7s 165ms/step - loss: 0.7964 - acc: 0.6875 - val_loss: 1.2166 - val_acc: 0.5437\n",
      "Epoch 47/50\n",
      "45/45 [==============================] - 7s 164ms/step - loss: 0.7779 - acc: 0.7185 - val_loss: 1.2356 - val_acc: 0.5406\n",
      "Epoch 48/50\n",
      "45/45 [==============================] - 8s 180ms/step - loss: 0.7394 - acc: 0.7129 - val_loss: 1.3194 - val_acc: 0.5297\n",
      "Epoch 49/50\n",
      "45/45 [==============================] - 7s 160ms/step - loss: 0.7559 - acc: 0.7143 - val_loss: 1.1857 - val_acc: 0.5562\n",
      "Epoch 50/50\n",
      "45/45 [==============================] - 7s 153ms/step - loss: 0.7497 - acc: 0.7115 - val_loss: 1.3230 - val_acc: 0.5234\n"
     ]
    },
    {
     "data": {
      "text/plain": [
       "<tensorflow.python.keras.callbacks.History at 0x1d4857a2b00>"
      ]
     },
     "execution_count": 11,
     "metadata": {},
     "output_type": "execute_result"
    }
   ],
   "source": [
    "model.fit_generator(x_train ,steps_per_epoch = 45,epochs=50, validation_data=x_test ,validation_steps = 20)"
   ]
  },
  {
   "cell_type": "code",
   "execution_count": 17,
   "metadata": {},
   "outputs": [],
   "source": [
    "model.save(\"flowers.h5\")"
   ]
  },
  {
   "cell_type": "code",
   "execution_count": 18,
   "metadata": {},
   "outputs": [],
   "source": [
    "from tensorflow.keras.models import load_model\n",
    "from tensorflow.keras.preprocessing import image\n",
    "import cv2\n",
    "import numpy as np"
   ]
  },
  {
   "cell_type": "code",
   "execution_count": 19,
   "metadata": {},
   "outputs": [],
   "source": [
    "index=[\"daisy\",\"dandelion\",\"rose\",\"sunflower\",\"tulip\"]"
   ]
  },
  {
   "cell_type": "code",
   "execution_count": 23,
   "metadata": {},
   "outputs": [],
   "source": [
    "model=load_model(\"flowers.h5\")"
   ]
  },
  {
   "cell_type": "code",
   "execution_count": 25,
   "metadata": {},
   "outputs": [],
   "source": [
    "img=image.load_img(\"Red-Rose.jpg\",target_size=(64,64))"
   ]
  },
  {
   "cell_type": "code",
   "execution_count": 26,
   "metadata": {},
   "outputs": [
    {
     "data": {
      "text/plain": [
       "PIL.Image.Image"
      ]
     },
     "execution_count": 26,
     "metadata": {},
     "output_type": "execute_result"
    }
   ],
   "source": [
    "type(img)"
   ]
  },
  {
   "cell_type": "code",
   "execution_count": 27,
   "metadata": {},
   "outputs": [],
   "source": [
    "x=image.img_to_array(img)"
   ]
  },
  {
   "cell_type": "code",
   "execution_count": 28,
   "metadata": {},
   "outputs": [
    {
     "data": {
      "text/plain": [
       "numpy.ndarray"
      ]
     },
     "execution_count": 28,
     "metadata": {},
     "output_type": "execute_result"
    }
   ],
   "source": [
    "type(x)"
   ]
  },
  {
   "cell_type": "code",
   "execution_count": 29,
   "metadata": {},
   "outputs": [
    {
     "data": {
      "text/plain": [
       "(64, 64, 3)"
      ]
     },
     "execution_count": 29,
     "metadata": {},
     "output_type": "execute_result"
    }
   ],
   "source": [
    "x.shape"
   ]
  },
  {
   "cell_type": "code",
   "execution_count": 30,
   "metadata": {},
   "outputs": [],
   "source": [
    "x=np.expand_dims(x,axis=0)"
   ]
  },
  {
   "cell_type": "code",
   "execution_count": 31,
   "metadata": {},
   "outputs": [
    {
     "data": {
      "text/plain": [
       "(1, 64, 64, 3)"
      ]
     },
     "execution_count": 31,
     "metadata": {},
     "output_type": "execute_result"
    }
   ],
   "source": [
    "x.shape"
   ]
  },
  {
   "cell_type": "code",
   "execution_count": 32,
   "metadata": {},
   "outputs": [],
   "source": [
    "pred=model.predict_classes(x)"
   ]
  },
  {
   "cell_type": "code",
   "execution_count": 33,
   "metadata": {},
   "outputs": [
    {
     "data": {
      "text/plain": [
       "2"
      ]
     },
     "execution_count": 33,
     "metadata": {},
     "output_type": "execute_result"
    }
   ],
   "source": [
    "pred[0]"
   ]
  },
  {
   "cell_type": "code",
   "execution_count": 34,
   "metadata": {},
   "outputs": [
    {
     "name": "stdout",
     "output_type": "stream",
     "text": [
      "rose\n"
     ]
    }
   ],
   "source": [
    "print(index[pred[0]])"
   ]
  },
  {
   "cell_type": "code",
   "execution_count": null,
   "metadata": {},
   "outputs": [],
   "source": []
  }
 ],
 "metadata": {
  "kernelspec": {
   "display_name": "Python 3",
   "language": "python",
   "name": "python3"
  },
  "language_info": {
   "codemirror_mode": {
    "name": "ipython",
    "version": 3
   },
   "file_extension": ".py",
   "mimetype": "text/x-python",
   "name": "python",
   "nbconvert_exporter": "python",
   "pygments_lexer": "ipython3",
   "version": "3.7.3"
  }
 },
 "nbformat": 4,
 "nbformat_minor": 2
}
